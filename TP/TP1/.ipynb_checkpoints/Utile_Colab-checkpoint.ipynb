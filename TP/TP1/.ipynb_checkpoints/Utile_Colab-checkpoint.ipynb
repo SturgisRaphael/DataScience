{
 "cells": [
  {
   "cell_type": "markdown",
   "metadata": {
    "colab_type": "text",
    "id": "NIluNpTeiGef"
   },
   "source": [
    "# Imports et installations"
   ]
  },
  {
   "cell_type": "code",
   "execution_count": 0,
   "metadata": {
    "colab": {},
    "colab_type": "code",
    "collapsed": true,
    "id": "M6jHDS-hiGe1"
   },
   "outputs": [],
   "source": [
    "\n",
    "\n",
    "import numpy as np\n",
    "import matplotlib.pyplot as plt\n",
    "import os\n",
    "\n",
    "!pip install -q panda\n",
    "import pandas as pd\n",
    "\n"
   ]
  },
  {
   "cell_type": "code",
   "execution_count": null,
   "metadata": {
    "collapsed": true
   },
   "outputs": [],
   "source": [
    "#@title Titre par défaut\n",
    "from google.colab import drive\n",
    "\n",
    "drive.mount('drive')"
   ]
  },
  {
   "cell_type": "code",
   "execution_count": 0,
   "metadata": {
    "colab": {},
    "colab_type": "code",
    "collapsed": true,
    "id": "swtV7kqZiGfr"
   },
   "outputs": [],
   "source": [
    "!mkdir -p drive -v\n",
    "!google-drive-ocamlfuse drive"
   ]
  },
  {
   "cell_type": "code",
   "execution_count": 0,
   "metadata": {
    "colab": {},
    "colab_type": "code",
    "collapsed": true,
    "id": "RZ7ZY9p8yY1E"
   },
   "outputs": [],
   "source": [
    "!ls drive"
   ]
  },
  {
   "cell_type": "code",
   "execution_count": 0,
   "metadata": {
    "colab": {},
    "colab_type": "code",
    "collapsed": true,
    "id": "8IybAi9B2tI2"
   },
   "outputs": [],
   "source": [
    "# Nous nous intéresssons au fichier 'GES2012/PERSON.TXT' dont la commande suivante affiche quelques lignes\n",
    "# Il faut avoir créer un répertoire IAAA/DS/Datasets/GES2012 dans votre drive dans lequel vous uploaderez le répertoire GES2012\n",
    "\n",
    "!head 'drive/My Drive/IAAA/DS/Datasets/GES2012//PERSON.TXT'"
   ]
  },
  {
   "cell_type": "code",
   "execution_count": 0,
   "metadata": {
    "colab": {},
    "colab_type": "code",
    "collapsed": true,
    "id": "q3dEVltn3rBm"
   },
   "outputs": [],
   "source": [
    "# Alernativement on peut utiliser \n",
    "\n",
    "os.chdir(\"drive/My Drive/IAAA/DS/Datasets/GES2012/\")\n",
    "!head 'PERSON.TXT'"
   ]
  }
 ],
 "metadata": {
  "accelerator": "GPU",
  "colab": {
   "collapsed_sections": [],
   "name": "Utile_Colab.ipynb",
   "provenance": [],
   "version": "0.3.2"
  },
  "kernelspec": {
   "display_name": "Python 3",
   "name": "python3"
  }
 },
 "nbformat": 4,
 "nbformat_minor": 1
}
