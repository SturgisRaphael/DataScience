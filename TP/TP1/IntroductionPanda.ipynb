{
 "cells": [
  {
   "cell_type": "markdown",
   "metadata": {
    "colab_type": "text",
    "id": "mA78xVu05OCm"
   },
   "source": [
    "# Imports et installations"
   ]
  },
  {
   "cell_type": "markdown",
   "metadata": {
    "colab_type": "text",
    "id": "t0742MYH5TJ3"
   },
   "source": [
    "## Installations et importations des modules"
   ]
  },
  {
   "cell_type": "code",
   "execution_count": null,
   "metadata": {
    "colab": {},
    "colab_type": "code",
    "collapsed": true,
    "id": "8cLAE1h84jdi"
   },
   "outputs": [],
   "source": [
    "import numpy as np\n",
    "import matplotlib.pyplot as plt\n",
    "import os\n",
    "!pip install -q panda\n",
    "import pandas as pd\n",
    "\n",
    "import numpy as np\n",
    "\n",
    "import matplotlib.pyplot as plt\n",
    "%matplotlib inline"
   ]
  },
  {
   "cell_type": "markdown",
   "metadata": {
    "colab_type": "text",
    "id": "BlT76rQN5kxx"
   },
   "source": [
    "## Lien avec le drive"
   ]
  },
  {
   "cell_type": "code",
   "execution_count": null,
   "metadata": {
    "cellView": "code",
    "colab": {
     "base_uri": "https://localhost:8080/",
     "height": 34
    },
    "colab_type": "code",
    "id": "0dELnpCixQ4b",
    "outputId": "bbc46556-43a1-4e59-9e53-87ed8db61ed9"
   },
   "outputs": [],
   "source": [
    "#@title Titre par défaut\n",
    "from google.colab import drive\n",
    "\n",
    "drive.mount('drive')"
   ]
  },
  {
   "cell_type": "code",
   "execution_count": null,
   "metadata": {
    "colab": {
     "base_uri": "https://localhost:8080/",
     "height": 34
    },
    "colab_type": "code",
    "id": "DUSn6o3h4nP3",
    "outputId": "7a968f7e-4a05-42d5-8146-493bd5066801"
   },
   "outputs": [],
   "source": [
    "!mkdir -p drive -v\n",
    "!google-drive-ocamlfuse drive"
   ]
  },
  {
   "cell_type": "code",
   "execution_count": null,
   "metadata": {
    "colab": {
     "base_uri": "https://localhost:8080/",
     "height": 34
    },
    "colab_type": "code",
    "id": "Lx07aLgP4nwo",
    "outputId": "c8b1b212-66c4-44d9-8578-110fdc6a5732"
   },
   "outputs": [],
   "source": [
    "!ls drive"
   ]
  },
  {
   "cell_type": "markdown",
   "metadata": {
    "colab_type": "text",
    "id": "FUgtwmudOO_6"
   },
   "source": [
    "### Chargement d'un fichier"
   ]
  },
  {
   "cell_type": "code",
   "execution_count": null,
   "metadata": {
    "colab": {
     "base_uri": "https://localhost:8080/",
     "height": 205
    },
    "colab_type": "code",
    "id": "PJVFk6MQOO_6",
    "outputId": "f2c122ad-a9c7-4c23-fbb4-0c1f0e78bd67"
   },
   "outputs": [],
   "source": [
    "# Nous nous intéresssons au fichier 'GES2012/PERSON.TXT' dont la commande suivante affiche quelques lignes\n",
    "\n",
    "!head 'drive/My Drive/IAAA/DS/Datasets/GES2012//PERSON.TXT'"
   ]
  },
  {
   "cell_type": "code",
   "execution_count": null,
   "metadata": {
    "colab": {
     "base_uri": "https://localhost:8080/",
     "height": 34
    },
    "colab_type": "code",
    "id": "sFE2EguF57cm",
    "outputId": "b31bcf0f-03fa-48c0-f692-3dc33ddef399"
   },
   "outputs": [],
   "source": [
    "\"\"\"\n",
    "Une alternative serait :\n",
    "  \n",
    "os.chdir(\"drive/My Drive/IAAA/DS/Datasets/GES2012/\")\n",
    "!head 'PERSON.TXT'\n",
    "\"\"\""
   ]
  },
  {
   "cell_type": "code",
   "execution_count": null,
   "metadata": {
    "colab": {},
    "colab_type": "code",
    "collapsed": true,
    "id": "PfQj2Zj2OO__"
   },
   "outputs": [],
   "source": [
    "# Nous allons récupérer le contenu de ce fichier avec pandas \n",
    "\n",
    "\n",
    "import sklearn\n",
    "\n",
    "cwd = os.getcwd()\n",
    "dir_path  = os.path.join(cwd, 'drive/My Drive/IAAA/DS/Datasets/GES2012/')\n",
    "input_file_path = os.path.join(dir_path, 'PERSON.TXT')\n"
   ]
  },
  {
   "cell_type": "code",
   "execution_count": null,
   "metadata": {
    "colab": {
     "base_uri": "https://localhost:8080/",
     "height": 3209
    },
    "colab_type": "code",
    "id": "bkPDZDzpOPAC",
    "outputId": "f35e974d-6c89-4520-f7d3-5eb10db1e2c6"
   },
   "outputs": [],
   "source": [
    "\n",
    "df = pd.read_csv(input_file_path, delimiter='\\t')\n",
    "\n",
    "print (df)"
   ]
  },
  {
   "cell_type": "code",
   "execution_count": null,
   "metadata": {
    "colab": {
     "base_uri": "https://localhost:8080/",
     "height": 1008
    },
    "colab_type": "code",
    "id": "dwhjGJ0WOPAG",
    "outputId": "57c459b7-c79e-4bd4-a5f7-49b082b5d7ab"
   },
   "outputs": [],
   "source": [
    "# Les types des colonnes d'un data frame sont inférés à partir des valeurs\n",
    "\n",
    "df.dtypes"
   ]
  },
  {
   "cell_type": "code",
   "execution_count": null,
   "metadata": {
    "colab": {
     "base_uri": "https://localhost:8080/",
     "height": 1058
    },
    "colab_type": "code",
    "id": "pBo53wMyOPAJ",
    "outputId": "cc9225bd-e8ee-4f68-c459-d498b5e80c7d"
   },
   "outputs": [],
   "source": [
    "# Vous pouvez connaitre les colonnes et les attributs d'un data frame avec TAB\n",
    "# en tapant df.<TAB>\n",
    "df.AGE"
   ]
  },
  {
   "cell_type": "markdown",
   "metadata": {
    "colab_type": "text",
    "id": "BXyBJIxbOPAL"
   },
   "source": [
    "## Visualiser les données"
   ]
  },
  {
   "cell_type": "markdown",
   "metadata": {
    "colab_type": "text",
    "id": "zDdVCbuoOPAM"
   },
   "source": [
    "Premiers et derniers éléments"
   ]
  },
  {
   "cell_type": "code",
   "execution_count": null,
   "metadata": {
    "colab": {
     "base_uri": "https://localhost:8080/",
     "height": 244
    },
    "colab_type": "code",
    "id": "iF6HTeb9OPAM",
    "outputId": "27980c83-dc6d-44af-88a9-897522a3ecb9"
   },
   "outputs": [],
   "source": [
    "df.head()"
   ]
  },
  {
   "cell_type": "code",
   "execution_count": null,
   "metadata": {
    "colab": {
     "base_uri": "https://localhost:8080/",
     "height": 155
    },
    "colab_type": "code",
    "id": "sLtz-DPuOPAP",
    "outputId": "24420672-4542-4b4b-adfa-030933e5302e"
   },
   "outputs": [],
   "source": [
    "df.tail(2)"
   ]
  },
  {
   "cell_type": "code",
   "execution_count": null,
   "metadata": {
    "colab": {
     "base_uri": "https://localhost:8080/",
     "height": 155
    },
    "colab_type": "code",
    "id": "46wJYJLXOPAT",
    "outputId": "31886417-112e-452f-a80a-ac7df238e613"
   },
   "outputs": [],
   "source": [
    "df[:2]"
   ]
  },
  {
   "cell_type": "markdown",
   "metadata": {
    "colab_type": "text",
    "id": "wzPrmnxaOPAX"
   },
   "source": [
    "Index, colonnes et le tableau de valeurs numpy sous jacent"
   ]
  },
  {
   "cell_type": "code",
   "execution_count": null,
   "metadata": {
    "colab": {
     "base_uri": "https://localhost:8080/",
     "height": 34
    },
    "colab_type": "code",
    "id": "28kum4m1OPAX",
    "outputId": "9c9e29b2-6fa3-497d-f737-bba302110da0"
   },
   "outputs": [],
   "source": [
    "df.index"
   ]
  },
  {
   "cell_type": "code",
   "execution_count": null,
   "metadata": {
    "colab": {
     "base_uri": "https://localhost:8080/",
     "height": 333
    },
    "colab_type": "code",
    "id": "uLmrWB3OOPAc",
    "outputId": "57c80cfc-1d4f-41d8-f433-533d32d13239"
   },
   "outputs": [],
   "source": [
    "# Calcul de stats sur les colonnes\n",
    "\n",
    "df.describe()"
   ]
  },
  {
   "cell_type": "code",
   "execution_count": null,
   "metadata": {
    "colab": {
     "base_uri": "https://localhost:8080/",
     "height": 1813
    },
    "colab_type": "code",
    "id": "uUIPwkS2OPAj",
    "outputId": "c2e7619e-3e35-4b65-a6cb-96358252af85"
   },
   "outputs": [],
   "source": [
    "#transposition\n",
    "\n",
    "df.T"
   ]
  },
  {
   "cell_type": "code",
   "execution_count": null,
   "metadata": {
    "colab": {
     "base_uri": "https://localhost:8080/",
     "height": 1902
    },
    "colab_type": "code",
    "id": "lPNAa0CtOPAn",
    "outputId": "521f1fe4-4df7-463d-bfab-eb26417fc13d"
   },
   "outputs": [],
   "source": [
    "#Tri suivant un axe\n",
    "\n",
    "df.sort_index(axis=1, ascending=False)"
   ]
  },
  {
   "cell_type": "code",
   "execution_count": null,
   "metadata": {
    "colab": {
     "base_uri": "https://localhost:8080/",
     "height": 235
    },
    "colab_type": "code",
    "id": "AqDjdbAIOPAp",
    "outputId": "94b94f8c-ad95-4627-a706-27f8d1f5b52a"
   },
   "outputs": [],
   "source": [
    "# Le tableau numpy sous jacent au data frame\n",
    "\n",
    "df.values"
   ]
  },
  {
   "cell_type": "code",
   "execution_count": null,
   "metadata": {
    "colab": {},
    "colab_type": "code",
    "collapsed": true,
    "id": "oBfTps9fOPAs"
   },
   "outputs": [],
   "source": [
    "# On trie suivant un des attributs\n",
    "\n",
    "# df.sort_values(columns='PER_TYP')"
   ]
  },
  {
   "cell_type": "code",
   "execution_count": null,
   "metadata": {
    "colab": {},
    "colab_type": "code",
    "collapsed": true,
    "id": "EjzBTwF9EWDR"
   },
   "outputs": [],
   "source": []
  },
  {
   "cell_type": "markdown",
   "metadata": {
    "colab_type": "text",
    "id": "sENNFyoHOPAv"
   },
   "source": [
    "## Selections"
   ]
  },
  {
   "cell_type": "markdown",
   "metadata": {
    "colab_type": "text",
    "id": "BhwiM8ZrOPAv"
   },
   "source": [
    "#### Acces aux lignes et colonnes par loc et iloc"
   ]
  },
  {
   "cell_type": "code",
   "execution_count": null,
   "metadata": {
    "colab": {
     "base_uri": "https://localhost:8080/",
     "height": 2120
    },
    "colab_type": "code",
    "id": "ASkXVIoxOPAw",
    "outputId": "e09f60df-70be-475f-9a52-79556b3b93b2"
   },
   "outputs": [],
   "source": [
    "print (df['AGE'])\n",
    "\n",
    "print (df.AGE)"
   ]
  },
  {
   "cell_type": "code",
   "execution_count": null,
   "metadata": {
    "colab": {
     "base_uri": "https://localhost:8080/",
     "height": 1969
    },
    "colab_type": "code",
    "id": "jKvSc5ifOPA2",
    "outputId": "1dfb6ec2-ee50-49e3-f59d-53c5f77c5487"
   },
   "outputs": [],
   "source": [
    "df.loc[:,['VEH_NO','PER_NO', 'PER_TYP']]"
   ]
  },
  {
   "cell_type": "code",
   "execution_count": null,
   "metadata": {
    "colab": {
     "base_uri": "https://localhost:8080/",
     "height": 156
    },
    "colab_type": "code",
    "id": "tfMEy6FSOPA5",
    "outputId": "faadac09-a142-46aa-d084-fc238dbe7a86"
   },
   "outputs": [],
   "source": [
    "df.loc[3:5,['VEH_NO','PER_NO', 'PER_TYP']]"
   ]
  },
  {
   "cell_type": "code",
   "execution_count": null,
   "metadata": {
    "colab": {
     "base_uri": "https://localhost:8080/",
     "height": 1028
    },
    "colab_type": "code",
    "id": "bv2QmAUEOPA6",
    "outputId": "d65b5b97-c76e-4287-8ce5-f996754ea9d9"
   },
   "outputs": [],
   "source": [
    "# Accès aux cases par l'index entier\n",
    "\n",
    "df.iloc[3]"
   ]
  },
  {
   "cell_type": "code",
   "execution_count": null,
   "metadata": {
    "colab": {
     "base_uri": "https://localhost:8080/",
     "height": 126
    },
    "colab_type": "code",
    "id": "dTTBVxXkOPA9",
    "outputId": "3b06c2cb-a935-4357-ce75-f6e5a8a66f20"
   },
   "outputs": [],
   "source": [
    "df.iloc[3:5,0:2]"
   ]
  },
  {
   "cell_type": "code",
   "execution_count": null,
   "metadata": {
    "colab": {
     "base_uri": "https://localhost:8080/",
     "height": 1969
    },
    "colab_type": "code",
    "id": "aTA3LcaaOPA_",
    "outputId": "2f95a48c-31c1-4d9f-c912-da983e81dc07"
   },
   "outputs": [],
   "source": [
    "df[df.AGE > 80]"
   ]
  },
  {
   "cell_type": "markdown",
   "metadata": {
    "colab_type": "text",
    "id": "xwuqDNf_OPBB"
   },
   "source": [
    "## Entrer des valeurs"
   ]
  },
  {
   "cell_type": "code",
   "execution_count": null,
   "metadata": {
    "colab": {
     "base_uri": "https://localhost:8080/",
     "height": 1902
    },
    "colab_type": "code",
    "id": "bCBl5SRvOPBC",
    "outputId": "27fd5ca4-dba9-47ea-8e63-cb9130e93904"
   },
   "outputs": [],
   "source": [
    "df2 = df.copy()\n",
    "df2['PER_NO'] =1\n",
    "df2"
   ]
  },
  {
   "cell_type": "markdown",
   "metadata": {
    "colab_type": "text",
    "id": "63pdYOxdOPBF"
   },
   "source": [
    "## Données manquantes"
   ]
  },
  {
   "cell_type": "code",
   "execution_count": null,
   "metadata": {
    "colab": {
     "base_uri": "https://localhost:8080/",
     "height": 6434
    },
    "colab_type": "code",
    "id": "nwv5Z7n5OPBF",
    "outputId": "33539e59-d1bb-4814-c771-fd8f3eb816b8"
   },
   "outputs": [],
   "source": [
    "#print pd.isnull(df2)\n",
    "\n",
    "print (df2.shape)\n",
    "# Eliminer les lignes avec un champs quelconque indéfini\n",
    "\n",
    "print (df2.dropna(how='any'))\n",
    "\n",
    "print (df2.shape)\n",
    "\n",
    "# Remplacer les valeurs manquantes par 5\n",
    "\n",
    "print (df2.fillna(value=5))\n"
   ]
  },
  {
   "cell_type": "code",
   "execution_count": null,
   "metadata": {
    "colab": {
     "base_uri": "https://localhost:8080/",
     "height": 1902
    },
    "colab_type": "code",
    "id": "ZP61PxEbOPBH",
    "outputId": "c67f1c24-cb2e-47d1-a3b0-acec44f876dd"
   },
   "outputs": [],
   "source": [
    "pd.isnull(df2)"
   ]
  },
  {
   "cell_type": "markdown",
   "metadata": {
    "colab_type": "text",
    "id": "_cBI-0cmOPBM"
   },
   "source": [
    "## Calculs de base"
   ]
  },
  {
   "cell_type": "code",
   "execution_count": null,
   "metadata": {
    "colab": {},
    "colab_type": "code",
    "collapsed": true,
    "id": "VTeaqUIjOPBN"
   },
   "outputs": [],
   "source": [
    "#print (df)\n",
    "print (df.mean())\n",
    "print( df.mean(1))"
   ]
  },
  {
   "cell_type": "markdown",
   "metadata": {
    "colab_type": "text",
    "id": "pWMGg0BiOPBS"
   },
   "source": [
    "## histograms"
   ]
  },
  {
   "cell_type": "code",
   "execution_count": null,
   "metadata": {
    "colab": {
     "base_uri": "https://localhost:8080/",
     "height": 188
    },
    "colab_type": "code",
    "id": "DiThJVqzOPBT",
    "outputId": "210b1c00-7be4-40b1-efdc-88e32e65ce25"
   },
   "outputs": [],
   "source": [
    "# Histogramme des types de dommages\n",
    "\n",
    "s = df.INJ_SEV.value_counts()\n",
    "print(s)"
   ]
  },
  {
   "cell_type": "code",
   "execution_count": null,
   "metadata": {
    "colab": {
     "base_uri": "https://localhost:8080/",
     "height": 282
    },
    "colab_type": "code",
    "id": "gCgo1XfHOPBW",
    "outputId": "1741327d-eb4f-4e3e-a25c-e60b3f8a2e51"
   },
   "outputs": [],
   "source": [
    "s.hist()"
   ]
  },
  {
   "cell_type": "code",
   "execution_count": null,
   "metadata": {
    "colab": {
     "base_uri": "https://localhost:8080/",
     "height": 450
    },
    "colab_type": "code",
    "id": "gj6TmFVeOPBa",
    "outputId": "46cfaa46-e9b1-496b-a5de-00657015e836"
   },
   "outputs": [],
   "source": [
    "print (s.index, s.values)\n",
    "p = pd.Series(s.index, index=s.values)\n",
    "print (p)\n",
    "p.hist()"
   ]
  },
  {
   "cell_type": "code",
   "execution_count": null,
   "metadata": {
    "colab": {},
    "colab_type": "code",
    "collapsed": true,
    "id": "dtYGGAR6OPBg"
   },
   "outputs": [],
   "source": []
  },
  {
   "cell_type": "code",
   "execution_count": null,
   "metadata": {
    "colab": {
     "base_uri": "https://localhost:8080/",
     "height": 282
    },
    "colab_type": "code",
    "id": "0Go66aydOPBi",
    "outputId": "a5295cd6-8270-46b0-f4d2-6f8ee122f8ee"
   },
   "outputs": [],
   "source": [
    "s.hist()"
   ]
  },
  {
   "cell_type": "markdown",
   "metadata": {
    "colab_type": "text",
    "id": "sY4VIdHrOPBl"
   },
   "source": [
    "## Merge concat etc"
   ]
  },
  {
   "cell_type": "code",
   "execution_count": null,
   "metadata": {
    "colab": {
     "base_uri": "https://localhost:8080/",
     "height": 244
    },
    "colab_type": "code",
    "id": "GXb-Cv1iOPBl",
    "outputId": "02cfe430-b65d-4dcf-845e-503cac859a2f"
   },
   "outputs": [],
   "source": [
    "# Créer un fichier ou l'on dispose d'une ligne par passager, avec ses infos, et avec les infos associées à son conducteur \n",
    "# Par jointure sur nO vehicule et casenum de\n",
    "# des drivers = infos sur les conducteurs\n",
    "drivers = df[df.PER_TYP==1]\n",
    "# et des passagers \n",
    "passengers =df[df['PER_TYP']==2]\n",
    "passengers = passengers[['CASENUM' ,'VEH_NO', 'PER_NO','INJ_SEV']]\n",
    "new_data = pd.merge (drivers, passengers, on=['CASENUM','VEH_NO' ], how='inner',left_index=True,copy=False)\n",
    "new_data.head()"
   ]
  },
  {
   "cell_type": "markdown",
   "metadata": {
    "colab_type": "text",
    "id": "3vaaY8GZOPBo"
   },
   "source": [
    "## Group by"
   ]
  },
  {
   "cell_type": "code",
   "execution_count": null,
   "metadata": {
    "colab": {
     "base_uri": "https://localhost:8080/",
     "height": 1931
    },
    "colab_type": "code",
    "id": "jXJouQbKOPBo",
    "outputId": "41dd232b-a0bb-449f-de2b-12f73cb2c697"
   },
   "outputs": [],
   "source": [
    "# L'opérateur sum ne s'applique qu'aux attributes de type nombre. \n",
    "# on peut grouper sur plusieurs attributs avec ['Atribut A', 'Attribut B']\n",
    "\n",
    "df.groupby('AGE').sum()"
   ]
  },
  {
   "cell_type": "markdown",
   "metadata": {
    "colab_type": "text",
    "id": "BHGdTEJBOPBp"
   },
   "source": [
    "## Input/Output\n"
   ]
  },
  {
   "cell_type": "code",
   "execution_count": null,
   "metadata": {
    "colab": {},
    "colab_type": "code",
    "collapsed": true,
    "id": "ibOyNvI9OPBq"
   },
   "outputs": [],
   "source": [
    "df.to_csv('foo.csv')"
   ]
  },
  {
   "cell_type": "code",
   "execution_count": null,
   "metadata": {
    "colab": {
     "base_uri": "https://localhost:8080/",
     "height": 1918
    },
    "colab_type": "code",
    "id": "R28eZ8JeOPBr",
    "outputId": "450e4ed4-6beb-4a7f-9095-f09fd022514d"
   },
   "outputs": [],
   "source": [
    "pd.read_csv('foo.csv')"
   ]
  },
  {
   "cell_type": "code",
   "execution_count": null,
   "metadata": {
    "colab": {},
    "colab_type": "code",
    "collapsed": true,
    "id": "PY5ZU68-OPBt"
   },
   "outputs": [],
   "source": []
  }
 ],
 "metadata": {
  "colab": {
   "name": "IntroductionPanda.ipynb",
   "provenance": [],
   "version": "0.3.2"
  },
  "kernelspec": {
   "display_name": "Python 3",
   "name": "python3"
  }
 },
 "nbformat": 4,
 "nbformat_minor": 1
}
