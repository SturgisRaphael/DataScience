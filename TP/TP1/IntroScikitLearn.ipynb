{
 "cells": [
  {
   "cell_type": "markdown",
   "metadata": {
    "colab_type": "text",
    "id": "eaU8a10bOanT"
   },
   "source": [
    "# Introduction à Sklearn\n",
    "\n",
    "Voir http://scikit-learn.org/stable/"
   ]
  },
  {
   "cell_type": "markdown",
   "metadata": {
    "colab_type": "text",
    "id": "-3xUYUMyOanV"
   },
   "source": [
    "### Chargement des premiers modules nécessaires"
   ]
  },
  {
   "cell_type": "code",
   "execution_count": null,
   "metadata": {
    "colab": {},
    "colab_type": "code",
    "collapsed": true,
    "id": "ylsdcfk6OanW"
   },
   "outputs": [],
   "source": [
    "%matplotlib inline\n",
    "import numpy as np\n",
    "from sklearn import datasets"
   ]
  },
  {
   "cell_type": "markdown",
   "metadata": {
    "colab_type": "text",
    "id": "5doHf6CNOanY"
   },
   "source": [
    "### Chargement des données IRIS"
   ]
  },
  {
   "cell_type": "code",
   "execution_count": null,
   "metadata": {
    "colab": {
     "base_uri": "https://localhost:8080/",
     "height": 67
    },
    "colab_type": "code",
    "id": "G0JAd6HnOanY",
    "outputId": "be8990e2-816f-47b6-a3a6-c266efc9f70d"
   },
   "outputs": [],
   "source": [
    "iris=datasets.load_iris()\n",
    "X_iris, y_iris = iris.data, iris.target\n",
    "print (X_iris.shape)\n",
    "X,y = X_iris, y_iris\n",
    "print (X.shape)\n",
    "print (y.shape)"
   ]
  },
  {
   "cell_type": "markdown",
   "metadata": {
    "colab_type": "text",
    "id": "JHpS2VXzOanb"
   },
   "source": [
    "### Utilisation d'utilitaires de gestion des données\n",
    "- train_test_split\n",
    "- cross_validation \n",
    "- etc\n",
    "\n",
    "\n",
    "Voir http://scikit-learn.org/stable/modules/cross_validation.html#\n"
   ]
  },
  {
   "cell_type": "code",
   "execution_count": null,
   "metadata": {
    "colab": {
     "base_uri": "https://localhost:8080/",
     "height": 87
    },
    "colab_type": "code",
    "id": "fZ9Nr5mKOanb",
    "outputId": "86d18232-fae3-4877-8a6e-6d5296e4de60"
   },
   "outputs": [],
   "source": [
    "from sklearn.cross_validation import train_test_split\n",
    "X_train, X_test, y_train, y_test = train_test_split(X,y,test_size=0.1, random_state = 15)\n",
    "X_train2 = X_train[:,:2]\n",
    "X_test2 = X_test[:,:2]\n",
    "print (X_train.shape, X_train2.shape)"
   ]
  },
  {
   "cell_type": "markdown",
   "metadata": {
    "colab_type": "text",
    "id": "IBCrVN-5Oane"
   },
   "source": [
    "Affichage des données\n",
    "---------------------"
   ]
  },
  {
   "cell_type": "code",
   "execution_count": null,
   "metadata": {
    "colab": {
     "base_uri": "https://localhost:8080/",
     "height": 218
    },
    "colab_type": "code",
    "id": "onCg1zkFOanf",
    "outputId": "89c1e3eb-bae5-4dba-a9c4-c247b5169235"
   },
   "outputs": [],
   "source": [
    "import matplotlib.pyplot as plt\n",
    "print (y_train==0)"
   ]
  },
  {
   "cell_type": "code",
   "execution_count": null,
   "metadata": {
    "colab": {
     "base_uri": "https://localhost:8080/",
     "height": 265
    },
    "colab_type": "code",
    "id": "ym7bKbpDOang",
    "outputId": "8f30b161-9589-4add-9994-5f3f9f8cb426"
   },
   "outputs": [],
   "source": [
    "xrange = range\n",
    "\n",
    "plt.figure(1)\n",
    "\n",
    "colors = ['red','greenyellow','blue']\n",
    "for i in xrange(len(colors)):\n",
    "    xs = X_train[:,0][y_train==i]\n",
    "    ys = X_train[:,1][y_train==i]\n",
    "    plt.scatter(xs,ys,c=colors[i])\n",
    "    xs = X_train[:,0][y_train==i]\n",
    "    ys = X_train[:,1][y_train==i]\n",
    "    plt.scatter(xs,ys,c=colors[i])\n",
    "plt.legend(iris.target_names)\n",
    "plt.show()"
   ]
  },
  {
   "cell_type": "markdown",
   "metadata": {
    "colab_type": "text",
    "id": "-pEJXLhBOanj"
   },
   "source": [
    "## Normalisation\n",
    "\n",
    "Voir http://scikit-learn.org/stable/modules/classes.html#module-sklearn.preprocessing"
   ]
  },
  {
   "cell_type": "code",
   "execution_count": null,
   "metadata": {
    "colab": {},
    "colab_type": "code",
    "collapsed": true,
    "id": "cp6FbjYgOank"
   },
   "outputs": [],
   "source": [
    "from sklearn import preprocessing\n",
    "X_scaled = preprocessing.scale(X)\n"
   ]
  },
  {
   "cell_type": "code",
   "execution_count": null,
   "metadata": {
    "colab": {
     "base_uri": "https://localhost:8080/",
     "height": 34
    },
    "colab_type": "code",
    "id": "QMbSrjW5Oanl",
    "outputId": "b3c205a3-cda5-443d-f7ee-25fc13e1cad7"
   },
   "outputs": [],
   "source": [
    "X_train, X_test, y_train, y_test = train_test_split(X_scaled,y,test_size=0.1, random_state = 15)\n",
    "X_train2 = X_train[:,:2]\n",
    "X_test2 = X_test[:,:2]\n",
    "print (X_train.shape, X_train2.shape)"
   ]
  },
  {
   "cell_type": "code",
   "execution_count": null,
   "metadata": {
    "colab": {
     "base_uri": "https://localhost:8080/",
     "height": 265
    },
    "colab_type": "code",
    "id": "vog72OkKOano",
    "outputId": "2398d4ac-3dd3-4732-f364-9e03fc39bb5d"
   },
   "outputs": [],
   "source": [
    "plt.figure(1)\n",
    "\n",
    "colors = ['red','greenyellow','blue']\n",
    "for i in xrange(len(colors)):\n",
    "    xs = X_train[:,0][y_train==i]\n",
    "    ys = X_train[:,1][y_train==i]\n",
    "    plt.scatter(xs,ys,c=colors[i])\n",
    "    xs = X_train[:,0][y_train==i]\n",
    "    ys = X_train[:,1][y_train==i]\n",
    "    plt.scatter(xs,ys,c=colors[i])\n",
    "plt.legend(iris.target_names)\n",
    "plt.show()"
   ]
  },
  {
   "cell_type": "markdown",
   "metadata": {
    "colab_type": "text",
    "id": "9I-GOtGcOanr"
   },
   "source": [
    "# Classification simple"
   ]
  },
  {
   "cell_type": "markdown",
   "metadata": {
    "colab_type": "text",
    "id": "DbpMtMygOanu"
   },
   "source": [
    "Classifieur sur les données brutes\n",
    "----------------------------------\n",
    "Tout objet dans scikit_learn a des attributs qui sont accessibles par nomobjet.nom_attribut et dont les noms sont terminés par le caractère \"souligné\".\n",
    "Par exemple un objet de la classe classifieur SGD a des paramètres (qui sont expliqués sur la doc en ligne à http://scikit-learn.org/stable/modules/generated/sklearn.linear_model.SGDClassifier.html) et qui sont accessibles par ce moyen.\n",
    "\n",
    "\n",
    "Dans sklearn quel que soit le modèle de prédiction (régression, projection, classification etc) on dispose des méthodes:\n",
    "- fit (pour apprendre)\n",
    "- predict (pour prédire)\n",
    "- fit_and_transform (pour apprendre et transformer)\n",
    "\n",
    "On choisit d'abord un modèle, puis on le fit puis on s'en sert pour prédire\n"
   ]
  },
  {
   "cell_type": "code",
   "execution_count": null,
   "metadata": {
    "colab": {
     "base_uri": "https://localhost:8080/",
     "height": 168
    },
    "colab_type": "code",
    "id": "6CBtlzDrOanv",
    "outputId": "f5b8d13a-1736-4391-ce87-493d4d2edf54"
   },
   "outputs": [],
   "source": [
    "from sklearn.linear_model import SGDClassifier\n",
    "clf = SGDClassifier(alpha=0.001, max_iter=200, loss=\"hinge\", penalty=\"l2\", eta0=0.01)\n",
    "clf.fit(X_train2, y_train)\n",
    "print (clf)\n",
    "print (clf.coef_)\n",
    "print (clf.intercept_)"
   ]
  },
  {
   "cell_type": "markdown",
   "metadata": {
    "colab_type": "text",
    "id": "yEqlnsAGOanx"
   },
   "source": [
    "# Affichage des frontières de  décision"
   ]
  },
  {
   "cell_type": "code",
   "execution_count": null,
   "metadata": {
    "colab": {
     "base_uri": "https://localhost:8080/",
     "height": 452
    },
    "colab_type": "code",
    "id": "8vKcxilVOany",
    "outputId": "8e09dde4-fe92-4287-8c3f-baea17db0065"
   },
   "outputs": [],
   "source": [
    "x_min, x_max = X_train2[:,0].min() - .5, X_train2[:,0].max() + .5\n",
    "y_min, y_max = X_train2[:,1].min() - .5, X_train2[:,1].max() + .5\n",
    "xs = np.arange(x_min, x_max, 0.5)\n",
    "fig, axes = plt.subplots(1,3)\n",
    "\n",
    "clf = SGDClassifier(alpha=0.1, max_iter=4, loss=\"hinge\", penalty=\"l2\", eta0=0.01)\n",
    "\n",
    "clf.fit(X_train2, y_train)\n",
    "\n",
    "print (clf)\n",
    "\n",
    "for i in [0, 1, 2]:\n",
    "    axes[i].set_title('Class'+ str(i) + ' versus the rest')\n",
    "    axes[i].set_xlabel('Sepal length')\n",
    "    axes[i].set_ylabel('Sepal width')\n",
    "    axes[i].set_aspect('equal')\n",
    "    axes[i].set_xlim(x_min, x_max)\n",
    "    axes[i].set_ylim(y_min, y_max)\n",
    "    plt.sca(axes[i])\n",
    "    #ytrain= np.ones(y_train.shape)\n",
    "    #ytrain[y_train==i] = 0\n",
    "    #ytrain[y_train==i] = 1\n",
    "    #print ytrain, y_train\n",
    "    plt.scatter(X_train2[:,0], X_train2[:,1], c=y_train, cmap = plt.cm.prism)\n",
    "    #clf.fit(X_train, y_train)\n",
    "    ys = (-clf.intercept_[i] - xs * clf.coef_[i,0] / clf.coef_[i,1])\n",
    "    plt.plot(xs,ys,hold=True)\n",
    "    #print clf\n",
    "    #print xs\n",
    "    print (ys)\n",
    "plt.show()"
   ]
  },
  {
   "cell_type": "code",
   "execution_count": null,
   "metadata": {
    "colab": {
     "base_uri": "https://localhost:8080/",
     "height": 84
    },
    "colab_type": "code",
    "id": "MpOyF5yBOan0",
    "outputId": "183ade0a-d365-4f8a-87a6-0a1b04116bcc"
   },
   "outputs": [],
   "source": [
    "clf.fit(X_train2, y_train)\n",
    "print (\"Hyperplans : \", clf.coef_)\n",
    "print (\"Biais : \",  clf.intercept_)"
   ]
  },
  {
   "cell_type": "code",
   "execution_count": null,
   "metadata": {
    "colab": {
     "base_uri": "https://localhost:8080/",
     "height": 280
    },
    "colab_type": "code",
    "id": "eqe4P0d_Oan3",
    "outputId": "533d4091-7212-4b72-d58d-4cfa16cd9b1e"
   },
   "outputs": [],
   "source": [
    "h = .02  # step size in the mesh\n",
    "colors = \"bry\"\n",
    "\n",
    "x_min, x_max = X_train2[:, 0].min() - 1, X_train2[:, 0].max() + 1\n",
    "y_min, y_max = X_train2[:, 1].min() - 1, X_train2[:, 1].max() + 1\n",
    "xx, yy = np.meshgrid(np.arange(x_min, x_max, h), np.arange(y_min, y_max, h))\n",
    "\n",
    "# Plot the decision boundary. For that, we will assign a color to each\n",
    "# point in the mesh [x_min, m_max]x[y_min, y_max].\n",
    "Z = clf.predict(np.c_[xx.ravel(), yy.ravel()])   # np.c_ = concaténation de deux matrices\n",
    "# Put the result into a color plot\n",
    "Z = Z.reshape(xx.shape)\n",
    "cs = plt.contourf(xx, yy, Z, cmap=plt.cm.Paired)\n",
    "plt.axis('tight')\n",
    "\n",
    "# Plot also the training points\n",
    "for i, color in zip(clf.classes_, colors):\n",
    "    idx = np.where(y_train == i)\n",
    "    plt.scatter(X_train2[idx, 0], X_train2[idx, 1], c=color, label=iris.target_names[i], cmap=plt.cm.Paired)\n",
    "plt.title(\"Decision surface of multi-class SGD\")\n",
    "plt.axis('tight')\n",
    "plt.show()"
   ]
  },
  {
   "cell_type": "markdown",
   "metadata": {
    "colab_type": "text",
    "id": "qqZOmShDOan7"
   },
   "source": [
    "# Calcul de performances"
   ]
  },
  {
   "cell_type": "code",
   "execution_count": null,
   "metadata": {
    "colab": {
     "base_uri": "https://localhost:8080/",
     "height": 50
    },
    "colab_type": "code",
    "id": "xX6xvb15Oan8",
    "outputId": "b40bf9ba-9d70-4842-b1c3-b1beaa5ffd64"
   },
   "outputs": [],
   "source": [
    "from sklearn import metrics\n",
    "clf.fit(X_train2,y_train)\n",
    "print (clf.score(X_train2, y_train))\n",
    "print (clf.score(X_test2, y_test))\n"
   ]
  },
  {
   "cell_type": "markdown",
   "metadata": {
    "colab_type": "text",
    "id": "VuaxwkXrOan-"
   },
   "source": [
    "# Validation croisée\n",
    "\n",
    "La validation croisée permet d'avoir une meilleure estimation de la performance en génaralisation et de la variance de l'estimateur.\n"
   ]
  },
  {
   "cell_type": "code",
   "execution_count": null,
   "metadata": {
    "colab": {
     "base_uri": "https://localhost:8080/",
     "height": 67
    },
    "colab_type": "code",
    "id": "zkmRi56dOan-",
    "outputId": "7ddd54c9-ef49-4c0b-96b2-a3d826f2e891"
   },
   "outputs": [],
   "source": [
    "from sklearn import cross_validation\n",
    "\n",
    "k_fold = cross_validation.KFold(n=6, n_folds=3) # indices=True)\n",
    "\n",
    "\n",
    "for train_indices, test_indices in k_fold:\n",
    "    print ('Train: %s | test: %s' % (train_indices, test_indices))"
   ]
  },
  {
   "cell_type": "markdown",
   "metadata": {
    "colab_type": "text",
    "id": "_W-Nw4kOOaoA"
   },
   "source": [
    "### On calcule la performance sur les K plis en généralisation sur XTrain2 (Données réduites à 2 composantes)"
   ]
  },
  {
   "cell_type": "code",
   "execution_count": null,
   "metadata": {
    "colab": {
     "base_uri": "https://localhost:8080/",
     "height": 121
    },
    "colab_type": "code",
    "id": "fdJMbz2dOaoA",
    "outputId": "1cacbbc6-4cb2-499c-de4b-d5cf062b8c6a"
   },
   "outputs": [],
   "source": [
    "kfold = cross_validation.KFold(len(X_train2), n_folds=5)\n",
    "[clf.fit(X_train2[i_train], y_train[i_train]).score(X_train2[i_test], y_train[i_test]) for i_train, i_test in kfold]"
   ]
  },
  {
   "cell_type": "markdown",
   "metadata": {
    "colab_type": "text",
    "id": "9RDX5VZcOaoC"
   },
   "source": [
    "### On calcule la performance sur les K plis en généralisation sur XTrain (expliquez la différence de performance)"
   ]
  },
  {
   "cell_type": "code",
   "execution_count": null,
   "metadata": {
    "colab": {
     "base_uri": "https://localhost:8080/",
     "height": 101
    },
    "colab_type": "code",
    "id": "ktj1JyF5OaoC",
    "outputId": "2505058b-47cb-4f8a-9496-e0e5f96fb7df"
   },
   "outputs": [],
   "source": [
    "kfold = cross_validation.KFold(len(X_train), n_folds=5)\n",
    "[clf.fit(X_train[i_train], y_train[i_train]).score(X_train[i_test], y_train[i_test]) for i_train, i_test in kfold]"
   ]
  },
  {
   "cell_type": "markdown",
   "metadata": {
    "colab_type": "text",
    "id": "zxEP33dxOaoF"
   },
   "source": [
    "### Idem sur l'ensemble des données "
   ]
  },
  {
   "cell_type": "code",
   "execution_count": null,
   "metadata": {
    "colab": {},
    "colab_type": "code",
    "collapsed": true,
    "id": "CUKx5GvKOaoF"
   },
   "outputs": [],
   "source": []
  },
  {
   "cell_type": "markdown",
   "metadata": {
    "colab_type": "text",
    "id": "CmiVaR-gOaoI"
   },
   "source": [
    "# Grid search pour la sélection de modèles\n",
    "\n",
    "Certains paramètres ne peuvent être appris automatiquement:\n",
    "- Les modèles sont définis par de nombreux paramètres dont certains, mais pas tous, sont apprenables automatiquement. \n",
    "- Les algorithmes d'optimisation requièrenet le plus souvent de fixer a priori des hyper-paramètres qui conditionnent leur comportement. \n",
    "\n",
    "Pour ces paramètres une possibilité est de tester plusieurs valeurs possibles par une exploration exhaustive (GridSearch) et de choisir les meilleurs. \n",
    "\n",
    "Voir http://scikit-learn.org/stable/modules/grid_search.html"
   ]
  },
  {
   "cell_type": "code",
   "execution_count": null,
   "metadata": {
    "colab": {
     "base_uri": "https://localhost:8080/",
     "height": 87
    },
    "colab_type": "code",
    "id": "5GzQULKyOaoI",
    "outputId": "c062bc63-c25c-47cb-e286-9e9e953016ad"
   },
   "outputs": [],
   "source": [
    "from sklearn import svm, grid_search, datasets\n",
    "iris = datasets.load_iris()\n",
    "parameters = {'kernel':('linear', 'rbf'), 'C':[1, 10]}\n",
    "svr = svm.SVC()\n",
    "clf = grid_search.GridSearchCV(svr, parameters)\n",
    "clf.fit(iris.data, iris.target)\n",
    "print (clf.grid_scores_)"
   ]
  },
  {
   "cell_type": "code",
   "execution_count": null,
   "metadata": {
    "colab": {
     "base_uri": "https://localhost:8080/",
     "height": 171
    },
    "colab_type": "code",
    "id": "ekUN-O3EOaoK",
    "outputId": "9938a742-8cd0-46ab-85b1-1f92dfe8fbe0"
   },
   "outputs": [],
   "source": [
    "from sklearn import grid_search, datasets\n",
    "from sklearn.linear_model import SGDClassifier\n",
    "\n",
    "parameters = {'alpha':[0.001, 0.01, 0.1, 1],'eta0':[0.1, 0.05, 0.01, 0.005], 'max_iter':[2, 5, 10, 10, 100]}\n",
    "sgdc = SGDClassifier()\n",
    "clf = grid_search.GridSearchCV(sgdc, parameters, cv=10)\n",
    "clf.fit(X_scaled, y)\n",
    "\n",
    "\n",
    "print (clf.grid_scores_)\n",
    "print (clf.best_score_)\n",
    "print (clf.best_params_)\n",
    "print (clf.best_estimator_)\n",
    "\n"
   ]
  },
  {
   "cell_type": "markdown",
   "metadata": {
    "colab_type": "text",
    "id": "3R-mfZpsOaoM"
   },
   "source": [
    "### Utilisation de Pipeline\n",
    "Pipeline permet de réaliser une chaine de traitement: normalisation, classification / régression, etc."
   ]
  },
  {
   "cell_type": "code",
   "execution_count": null,
   "metadata": {
    "colab": {
     "base_uri": "https://localhost:8080/",
     "height": 67
    },
    "colab_type": "code",
    "id": "fQLK_cvDOaoN",
    "outputId": "d95b3283-a84f-44a6-ae58-ce54ad6beb3e"
   },
   "outputs": [],
   "source": [
    "from sklearn import svm\n",
    "from sklearn import preprocessing\n",
    "from sklearn.linear_model import SGDClassifier\n",
    "from sklearn.pipeline import Pipeline\n",
    "\n",
    "X2 = X\n",
    "X_tr, X_te, y_tr, y_te = train_test_split(X2,y,test_size=0.1, random_state = 1)\n",
    "X_tr2 = X_tr[:,:2]\n",
    "X_te2 = X_te[:,:2]\n",
    "print (X_tr2.shape, X_te2.shape)\n",
    "\n",
    "\n",
    "clf = svm.SVC(kernel='linear')\n",
    "pipe = Pipeline([('norm', preprocessing.StandardScaler()), ('svm', clf)])\n",
    "\n",
    "pipe.set_params(svm__C=.1).fit(X_tr2, y_tr)\n",
    "prediction_tr = pipe.predict(X_tr2)\n",
    "prediction_te = pipe.predict(X_te2)\n",
    "\n",
    "print(pipe.score(X_tr2, y_tr))\n",
    "print(pipe.score(X_te2, y_te))\n",
    "\n"
   ]
  }
 ],
 "metadata": {
  "colab": {
   "name": "IntroScikitLearn.ipynb",
   "provenance": [],
   "version": "0.3.2"
  },
  "kernelspec": {
   "display_name": "Python 3",
   "name": "python3"
  }
 },
 "nbformat": 4,
 "nbformat_minor": 1
}
