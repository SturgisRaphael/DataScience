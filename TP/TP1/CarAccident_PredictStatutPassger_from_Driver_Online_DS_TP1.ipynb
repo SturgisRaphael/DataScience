{
 "cells": [
  {
   "cell_type": "markdown",
   "metadata": {
    "colab_type": "text",
    "id": "Kv4sGeDyHBWV"
   },
   "source": [
    "# Imports et installations"
   ]
  },
  {
   "cell_type": "code",
   "execution_count": null,
   "metadata": {
    "colab": {},
    "colab_type": "code",
    "collapsed": true,
    "id": "XBaSRtigHBok"
   },
   "outputs": [],
   "source": [
    "import numpy as np\n",
    "import matplotlib.pyplot as plt\n",
    "import os\n",
    "!pip install -q panda\n",
    "import pandas as pd\n",
    "#!pip install -q openpyxl\n",
    "\n",
    "import numpy as np\n",
    "\n",
    "import matplotlib.pyplot as plt\n",
    "%matplotlib inline"
   ]
  },
  {
   "cell_type": "markdown",
   "metadata": {
    "colab_type": "text",
    "id": "rukULS6rFRhy"
   },
   "source": [
    "### Monter votre google drive"
   ]
  },
  {
   "cell_type": "code",
   "execution_count": null,
   "metadata": {
    "colab": {
     "base_uri": "https://localhost:8080/",
     "height": 34
    },
    "colab_type": "code",
    "id": "iNUQ37aBvhwC",
    "outputId": "a2dd9ba8-5b20-413a-a2b8-6eda95e96f5b"
   },
   "outputs": [],
   "source": [
    "from google.colab import drive\n",
    "drive.mount('drive')"
   ]
  },
  {
   "cell_type": "code",
   "execution_count": null,
   "metadata": {
    "colab": {
     "base_uri": "https://localhost:8080/",
     "height": 34
    },
    "colab_type": "code",
    "id": "1RdWctfBHXpA",
    "outputId": "df14656a-ff1b-4294-8bdc-d62fd26308a7"
   },
   "outputs": [],
   "source": [
    "!mkdir -p drive -v\n",
    "!google-drive-ocamlfuse drive"
   ]
  },
  {
   "cell_type": "code",
   "execution_count": null,
   "metadata": {
    "colab": {
     "base_uri": "https://localhost:8080/",
     "height": 3209
    },
    "colab_type": "code",
    "id": "NBgvPV9WFRh1",
    "outputId": "3b2df85a-9c1a-469a-9777-e9195a4b9e96"
   },
   "outputs": [],
   "source": [
    "import sklearn\n",
    "\n",
    "cwd = os.getcwd()\n",
    "dir_path  = os.path.join(cwd, 'drive/My Drive/IAAA/DS/Datasets/GES2012/')\n",
    "input_file_path = os.path.join(dir_path, 'PERSON.TXT')\n",
    "\n",
    "input_data = pd.read_csv(input_file_path, delimiter='\\t')\n",
    "\n",
    "print (input_data)"
   ]
  },
  {
   "cell_type": "markdown",
   "metadata": {
    "colab_type": "text",
    "id": "AycJzBohFRiF"
   },
   "source": [
    "### Manipulation du data frame "
   ]
  },
  {
   "cell_type": "code",
   "execution_count": null,
   "metadata": {
    "colab": {
     "base_uri": "https://localhost:8080/",
     "height": 244
    },
    "colab_type": "code",
    "id": "JxjrlHzVFRiK",
    "outputId": "5eb1d4f2-d86b-4340-d8fe-6193cc5809cf"
   },
   "outputs": [],
   "source": [
    "input_data.head()"
   ]
  },
  {
   "cell_type": "code",
   "execution_count": null,
   "metadata": {
    "colab": {
     "base_uri": "https://localhost:8080/",
     "height": 333
    },
    "colab_type": "code",
    "id": "3g4lJ3yGFRiN",
    "outputId": "9dd261f6-7d38-4657-8e97-b5c450d4ad49"
   },
   "outputs": [],
   "source": [
    "input_data.describe()"
   ]
  },
  {
   "cell_type": "code",
   "execution_count": null,
   "metadata": {
    "colab": {
     "base_uri": "https://localhost:8080/",
     "height": 34
    },
    "colab_type": "code",
    "id": "T4amhFcIFRiQ",
    "outputId": "9bf1b0ca-af96-4136-a799-8af0fcc4f98d"
   },
   "outputs": [],
   "source": [
    "input_data.index"
   ]
  },
  {
   "cell_type": "code",
   "execution_count": null,
   "metadata": {
    "colab": {
     "base_uri": "https://localhost:8080/",
     "height": 168
    },
    "colab_type": "code",
    "id": "NQ5x8g6-FRiT",
    "outputId": "c501778a-a851-48ec-c191-9673dabec670"
   },
   "outputs": [],
   "source": [
    "input_data.INJ_SEV.value_counts()"
   ]
  },
  {
   "cell_type": "code",
   "execution_count": null,
   "metadata": {
    "colab": {
     "base_uri": "https://localhost:8080/",
     "height": 1008
    },
    "colab_type": "code",
    "id": "rYwIFcytvhxb",
    "outputId": "5f9e8468-cf52-4d1d-e1ff-676e167dcd2a"
   },
   "outputs": [],
   "source": [
    "input_data.iloc[0,:]"
   ]
  },
  {
   "cell_type": "markdown",
   "metadata": {
    "colab_type": "text",
    "id": "uqBnX63SFRh0"
   },
   "source": [
    "### Objectif du notebook\n",
    "\n",
    "On souhaite savoir à quel point on peut prédire la gravité de l'accident en fonction de caractéristiques du conducteur.\n"
   ]
  },
  {
   "cell_type": "markdown",
   "metadata": {
    "colab_type": "text",
    "id": "97qm85O5FRh7"
   },
   "source": [
    "### Création du dataset\n",
    "\n",
    "Créer 2 tables à partir de input_data: \n",
    "       * passengers avec input_data['PER_TYP']==2\n",
    "       * drivers avec input_data.PER_TYP==1\n",
    "Garder toutes les informations sur le drivers hormis les blessures recues INJ_SEV et INJSEV_IM.\n",
    "Garder pour passengers les champs 'CASENUM' ,'VEH_NO', 'PER_NO','INJ_SEV' et faites la jointure des 2 tables.\n",
    "\n",
    "Séparer ensuite la partie train: toutes les informations concernant le driver du passenger et la partie test: le passenger a t'il été blessé ? (voir documentation ci-dessous)\n",
    "\n",
    "Appliquer le nettoyage ci-apres\n",
    "       "
   ]
  },
  {
   "cell_type": "code",
   "execution_count": null,
   "metadata": {
    "colab": {
     "base_uri": "https://localhost:8080/",
     "height": 168
    },
    "colab_type": "code",
    "id": "NiRDwWgKFRiZ",
    "outputId": "f8c48880-2ba2-4ca5-c072-dd29e97c4377"
   },
   "outputs": [],
   "source": [
    "# Nettoyage du dataset et elimination des cas non pertinents pour l'étude\n",
    "\n",
    "input_data = input_data[input_data.INJ_SEV < 6]\n",
    "\n",
    "for column_name in input_data.columns:\n",
    "    n_nans = input_data[column_name].isnull().sum()\n",
    "    if n_nans > 0:\n",
    "        print (column_name, n_nans)"
   ]
  },
  {
   "cell_type": "code",
   "execution_count": null,
   "metadata": {
    "colab": {},
    "colab_type": "code",
    "collapsed": true,
    "id": "97hngZgEvhyg"
   },
   "outputs": [],
   "source": []
  },
  {
   "cell_type": "markdown",
   "metadata": {
    "colab_type": "text",
    "id": "VpTTmSyHFRi1"
   },
   "source": [
    "### Apprentissage\n",
    "\n",
    "Le but est maintenant d'entrainer un classifieur sur ces données.\n",
    "\n",
    "Propriétés du Conducteur (X) -> Blessures / Non Blessures (y) .\n",
    "\n",
    "- Diviser votre jeux de données en train et test sets.\n",
    "\n",
    "- Utiliser le classifieur des K plus proches voisins et donnez les performances en termes d'accuracy et d'average precision.\n",
    "\n",
    "- Faire un grid search sur la valeur de K\n",
    "\n"
   ]
  }
 ],
 "metadata": {
  "colab": {
   "collapsed_sections": [],
   "name": "CarAccident_PredictStatutPassger_from_Driver_Online_DS-TP1_Ronan2.ipynb",
   "provenance": [],
   "version": "0.3.2"
  },
  "kernelspec": {
   "display_name": "Python 2",
   "language": "python",
   "name": "python2"
  },
  "language_info": {
   "codemirror_mode": {
    "name": "ipython",
    "version": 2
   },
   "file_extension": ".py",
   "mimetype": "text/x-python",
   "name": "python",
   "nbconvert_exporter": "python",
   "pygments_lexer": "ipython2",
   "version": "2.7.14"
  }
 },
 "nbformat": 4,
 "nbformat_minor": 1
}
